{
 "cells": [
  {
   "cell_type": "markdown",
   "metadata": {},
   "source": [
    "# Ensemble learning"
   ]
  },
  {
   "cell_type": "code",
   "execution_count": 19,
   "metadata": {},
   "outputs": [],
   "source": [
    "from sklearn.datasets import fetch_openml\n",
    "from sklearn.model_selection import train_test_split\n",
    "from sklearn.preprocessing import StandardScaler\n",
    "from sklearn.decomposition import PCA"
   ]
  },
  {
   "cell_type": "code",
   "execution_count": 4,
   "metadata": {},
   "outputs": [],
   "source": [
    "mnist = fetch_openml(\"mnist_784\", data_home=\"./mnist_784\", cache=True)"
   ]
  },
  {
   "cell_type": "code",
   "execution_count": 24,
   "metadata": {},
   "outputs": [],
   "source": [
    "X = mnist.data\n",
    "y = mnist.target"
   ]
  },
  {
   "cell_type": "code",
   "execution_count": 25,
   "metadata": {},
   "outputs": [
    {
     "data": {
      "text/plain": [
       "array([[ 122.25525533, -316.23384482,  -51.13183031, ...,  181.32694182,\n",
       "        -133.43377571, -121.64790966],\n",
       "       [1010.49400347, -289.96362143,  576.12074369, ...,   29.45764382,\n",
       "        -354.55286257,  -88.07044005],\n",
       "       [ -58.99594719,  393.69744708, -161.99818898, ...,  117.49728741,\n",
       "         -22.47444081, -281.81745222],\n",
       "       ...,\n",
       "       [-271.50701326,  590.07850087,  341.36887043, ...,  166.84460438,\n",
       "         103.80214207,  -91.08514512],\n",
       "       [-310.22482291, -116.72715222,  635.71999934, ...,  -75.31750597,\n",
       "        -261.15104038,   16.52722051],\n",
       "       [1058.86212572,  -83.39253808,  731.34218428, ...,  -89.73133666,\n",
       "          58.23510322,  108.84781255]])"
      ]
     },
     "execution_count": 25,
     "metadata": {},
     "output_type": "execute_result"
    }
   ],
   "source": [
    "standard_scaler = StandardScaler()\n",
    "standard_scaler.fit_transform(X)\n",
    "\n",
    "pca = PCA(30)\n",
    "pca.fit_transform(X)"
   ]
  },
  {
   "cell_type": "code",
   "execution_count": 23,
   "metadata": {},
   "outputs": [],
   "source": [
    "X_train, X_test, y_train, y_test = train_test_split(X, y, test_size=0.2, random_state=13)"
   ]
  },
  {
   "cell_type": "code",
   "execution_count": null,
   "metadata": {},
   "outputs": [],
   "source": []
  }
 ],
 "metadata": {
  "kernelspec": {
   "display_name": "ml_tutorial_4",
   "language": "python",
   "name": "ml_tutorial_4"
  },
  "language_info": {
   "codemirror_mode": {
    "name": "ipython",
    "version": 3
   },
   "file_extension": ".py",
   "mimetype": "text/x-python",
   "name": "python",
   "nbconvert_exporter": "python",
   "pygments_lexer": "ipython3",
   "version": "3.7.7"
  }
 },
 "nbformat": 4,
 "nbformat_minor": 2
}
